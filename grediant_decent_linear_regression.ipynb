{
  "nbformat": 4,
  "nbformat_minor": 0,
  "metadata": {
    "colab": {
      "provenance": []
    },
    "kernelspec": {
      "name": "python3",
      "display_name": "Python 3"
    },
    "language_info": {
      "name": "python"
    }
  },
  "cells": [
    {
      "cell_type": "code",
      "execution_count": 184,
      "metadata": {
        "id": "huMqIuvs5QdC"
      },
      "outputs": [],
      "source": [
        "import pandas as pd\n",
        "import numpy as np\n",
        "import matplotlib.pyplot as plt\n",
        "from sklearn.model_selection import train_test_split\n",
        "from sklearn.linear_model import LinearRegression\n",
        "from sklearn.metrics import mean_absolute_error, mean_squared_error, r2_score\n",
        "from sklearn.linear_model import  LinearRegression"
      ]
    },
    {
      "cell_type": "code",
      "source": [
        "df = pd.read_csv('/content/drive/MyDrive/Colab Notebooks/home - Sheet1.csv')"
      ],
      "metadata": {
        "id": "n6nQwkjb5TJ4"
      },
      "execution_count": 185,
      "outputs": []
    },
    {
      "cell_type": "code",
      "source": [
        "df"
      ],
      "metadata": {
        "colab": {
          "base_uri": "https://localhost:8080/",
          "height": 331
        },
        "id": "KhSbGZVT5gPc",
        "outputId": "3158bcd0-ed9e-4cd3-9f50-18c58a40969f"
      },
      "execution_count": 186,
      "outputs": [
        {
          "output_type": "execute_result",
          "data": {
            "text/plain": [
              "   Area  price\n",
              "0  3000   5000\n",
              "1  2900   4900\n",
              "2  2880   4990\n",
              "3  2500   4500\n",
              "4  2990   2970\n",
              "5  2500   2680\n",
              "6  2700   2890\n",
              "7  3150   3500\n",
              "8  3200   3200"
            ],
            "text/html": [
              "\n",
              "  <div id=\"df-ce2b8f0d-2c99-4d77-95d4-51792bbc9336\" class=\"colab-df-container\">\n",
              "    <div>\n",
              "<style scoped>\n",
              "    .dataframe tbody tr th:only-of-type {\n",
              "        vertical-align: middle;\n",
              "    }\n",
              "\n",
              "    .dataframe tbody tr th {\n",
              "        vertical-align: top;\n",
              "    }\n",
              "\n",
              "    .dataframe thead th {\n",
              "        text-align: right;\n",
              "    }\n",
              "</style>\n",
              "<table border=\"1\" class=\"dataframe\">\n",
              "  <thead>\n",
              "    <tr style=\"text-align: right;\">\n",
              "      <th></th>\n",
              "      <th>Area</th>\n",
              "      <th>price</th>\n",
              "    </tr>\n",
              "  </thead>\n",
              "  <tbody>\n",
              "    <tr>\n",
              "      <th>0</th>\n",
              "      <td>3000</td>\n",
              "      <td>5000</td>\n",
              "    </tr>\n",
              "    <tr>\n",
              "      <th>1</th>\n",
              "      <td>2900</td>\n",
              "      <td>4900</td>\n",
              "    </tr>\n",
              "    <tr>\n",
              "      <th>2</th>\n",
              "      <td>2880</td>\n",
              "      <td>4990</td>\n",
              "    </tr>\n",
              "    <tr>\n",
              "      <th>3</th>\n",
              "      <td>2500</td>\n",
              "      <td>4500</td>\n",
              "    </tr>\n",
              "    <tr>\n",
              "      <th>4</th>\n",
              "      <td>2990</td>\n",
              "      <td>2970</td>\n",
              "    </tr>\n",
              "    <tr>\n",
              "      <th>5</th>\n",
              "      <td>2500</td>\n",
              "      <td>2680</td>\n",
              "    </tr>\n",
              "    <tr>\n",
              "      <th>6</th>\n",
              "      <td>2700</td>\n",
              "      <td>2890</td>\n",
              "    </tr>\n",
              "    <tr>\n",
              "      <th>7</th>\n",
              "      <td>3150</td>\n",
              "      <td>3500</td>\n",
              "    </tr>\n",
              "    <tr>\n",
              "      <th>8</th>\n",
              "      <td>3200</td>\n",
              "      <td>3200</td>\n",
              "    </tr>\n",
              "  </tbody>\n",
              "</table>\n",
              "</div>\n",
              "    <div class=\"colab-df-buttons\">\n",
              "\n",
              "  <div class=\"colab-df-container\">\n",
              "    <button class=\"colab-df-convert\" onclick=\"convertToInteractive('df-ce2b8f0d-2c99-4d77-95d4-51792bbc9336')\"\n",
              "            title=\"Convert this dataframe to an interactive table.\"\n",
              "            style=\"display:none;\">\n",
              "\n",
              "  <svg xmlns=\"http://www.w3.org/2000/svg\" height=\"24px\" viewBox=\"0 -960 960 960\">\n",
              "    <path d=\"M120-120v-720h720v720H120Zm60-500h600v-160H180v160Zm220 220h160v-160H400v160Zm0 220h160v-160H400v160ZM180-400h160v-160H180v160Zm440 0h160v-160H620v160ZM180-180h160v-160H180v160Zm440 0h160v-160H620v160Z\"/>\n",
              "  </svg>\n",
              "    </button>\n",
              "\n",
              "  <style>\n",
              "    .colab-df-container {\n",
              "      display:flex;\n",
              "      gap: 12px;\n",
              "    }\n",
              "\n",
              "    .colab-df-convert {\n",
              "      background-color: #E8F0FE;\n",
              "      border: none;\n",
              "      border-radius: 50%;\n",
              "      cursor: pointer;\n",
              "      display: none;\n",
              "      fill: #1967D2;\n",
              "      height: 32px;\n",
              "      padding: 0 0 0 0;\n",
              "      width: 32px;\n",
              "    }\n",
              "\n",
              "    .colab-df-convert:hover {\n",
              "      background-color: #E2EBFA;\n",
              "      box-shadow: 0px 1px 2px rgba(60, 64, 67, 0.3), 0px 1px 3px 1px rgba(60, 64, 67, 0.15);\n",
              "      fill: #174EA6;\n",
              "    }\n",
              "\n",
              "    .colab-df-buttons div {\n",
              "      margin-bottom: 4px;\n",
              "    }\n",
              "\n",
              "    [theme=dark] .colab-df-convert {\n",
              "      background-color: #3B4455;\n",
              "      fill: #D2E3FC;\n",
              "    }\n",
              "\n",
              "    [theme=dark] .colab-df-convert:hover {\n",
              "      background-color: #434B5C;\n",
              "      box-shadow: 0px 1px 3px 1px rgba(0, 0, 0, 0.15);\n",
              "      filter: drop-shadow(0px 1px 2px rgba(0, 0, 0, 0.3));\n",
              "      fill: #FFFFFF;\n",
              "    }\n",
              "  </style>\n",
              "\n",
              "    <script>\n",
              "      const buttonEl =\n",
              "        document.querySelector('#df-ce2b8f0d-2c99-4d77-95d4-51792bbc9336 button.colab-df-convert');\n",
              "      buttonEl.style.display =\n",
              "        google.colab.kernel.accessAllowed ? 'block' : 'none';\n",
              "\n",
              "      async function convertToInteractive(key) {\n",
              "        const element = document.querySelector('#df-ce2b8f0d-2c99-4d77-95d4-51792bbc9336');\n",
              "        const dataTable =\n",
              "          await google.colab.kernel.invokeFunction('convertToInteractive',\n",
              "                                                    [key], {});\n",
              "        if (!dataTable) return;\n",
              "\n",
              "        const docLinkHtml = 'Like what you see? Visit the ' +\n",
              "          '<a target=\"_blank\" href=https://colab.research.google.com/notebooks/data_table.ipynb>data table notebook</a>'\n",
              "          + ' to learn more about interactive tables.';\n",
              "        element.innerHTML = '';\n",
              "        dataTable['output_type'] = 'display_data';\n",
              "        await google.colab.output.renderOutput(dataTable, element);\n",
              "        const docLink = document.createElement('div');\n",
              "        docLink.innerHTML = docLinkHtml;\n",
              "        element.appendChild(docLink);\n",
              "      }\n",
              "    </script>\n",
              "  </div>\n",
              "\n",
              "\n",
              "    <div id=\"df-5daba0f1-cffa-4d0b-9034-2dd6ecf8c4c0\">\n",
              "      <button class=\"colab-df-quickchart\" onclick=\"quickchart('df-5daba0f1-cffa-4d0b-9034-2dd6ecf8c4c0')\"\n",
              "                title=\"Suggest charts\"\n",
              "                style=\"display:none;\">\n",
              "\n",
              "<svg xmlns=\"http://www.w3.org/2000/svg\" height=\"24px\"viewBox=\"0 0 24 24\"\n",
              "     width=\"24px\">\n",
              "    <g>\n",
              "        <path d=\"M19 3H5c-1.1 0-2 .9-2 2v14c0 1.1.9 2 2 2h14c1.1 0 2-.9 2-2V5c0-1.1-.9-2-2-2zM9 17H7v-7h2v7zm4 0h-2V7h2v10zm4 0h-2v-4h2v4z\"/>\n",
              "    </g>\n",
              "</svg>\n",
              "      </button>\n",
              "\n",
              "<style>\n",
              "  .colab-df-quickchart {\n",
              "      --bg-color: #E8F0FE;\n",
              "      --fill-color: #1967D2;\n",
              "      --hover-bg-color: #E2EBFA;\n",
              "      --hover-fill-color: #174EA6;\n",
              "      --disabled-fill-color: #AAA;\n",
              "      --disabled-bg-color: #DDD;\n",
              "  }\n",
              "\n",
              "  [theme=dark] .colab-df-quickchart {\n",
              "      --bg-color: #3B4455;\n",
              "      --fill-color: #D2E3FC;\n",
              "      --hover-bg-color: #434B5C;\n",
              "      --hover-fill-color: #FFFFFF;\n",
              "      --disabled-bg-color: #3B4455;\n",
              "      --disabled-fill-color: #666;\n",
              "  }\n",
              "\n",
              "  .colab-df-quickchart {\n",
              "    background-color: var(--bg-color);\n",
              "    border: none;\n",
              "    border-radius: 50%;\n",
              "    cursor: pointer;\n",
              "    display: none;\n",
              "    fill: var(--fill-color);\n",
              "    height: 32px;\n",
              "    padding: 0;\n",
              "    width: 32px;\n",
              "  }\n",
              "\n",
              "  .colab-df-quickchart:hover {\n",
              "    background-color: var(--hover-bg-color);\n",
              "    box-shadow: 0 1px 2px rgba(60, 64, 67, 0.3), 0 1px 3px 1px rgba(60, 64, 67, 0.15);\n",
              "    fill: var(--button-hover-fill-color);\n",
              "  }\n",
              "\n",
              "  .colab-df-quickchart-complete:disabled,\n",
              "  .colab-df-quickchart-complete:disabled:hover {\n",
              "    background-color: var(--disabled-bg-color);\n",
              "    fill: var(--disabled-fill-color);\n",
              "    box-shadow: none;\n",
              "  }\n",
              "\n",
              "  .colab-df-spinner {\n",
              "    border: 2px solid var(--fill-color);\n",
              "    border-color: transparent;\n",
              "    border-bottom-color: var(--fill-color);\n",
              "    animation:\n",
              "      spin 1s steps(1) infinite;\n",
              "  }\n",
              "\n",
              "  @keyframes spin {\n",
              "    0% {\n",
              "      border-color: transparent;\n",
              "      border-bottom-color: var(--fill-color);\n",
              "      border-left-color: var(--fill-color);\n",
              "    }\n",
              "    20% {\n",
              "      border-color: transparent;\n",
              "      border-left-color: var(--fill-color);\n",
              "      border-top-color: var(--fill-color);\n",
              "    }\n",
              "    30% {\n",
              "      border-color: transparent;\n",
              "      border-left-color: var(--fill-color);\n",
              "      border-top-color: var(--fill-color);\n",
              "      border-right-color: var(--fill-color);\n",
              "    }\n",
              "    40% {\n",
              "      border-color: transparent;\n",
              "      border-right-color: var(--fill-color);\n",
              "      border-top-color: var(--fill-color);\n",
              "    }\n",
              "    60% {\n",
              "      border-color: transparent;\n",
              "      border-right-color: var(--fill-color);\n",
              "    }\n",
              "    80% {\n",
              "      border-color: transparent;\n",
              "      border-right-color: var(--fill-color);\n",
              "      border-bottom-color: var(--fill-color);\n",
              "    }\n",
              "    90% {\n",
              "      border-color: transparent;\n",
              "      border-bottom-color: var(--fill-color);\n",
              "    }\n",
              "  }\n",
              "</style>\n",
              "\n",
              "      <script>\n",
              "        async function quickchart(key) {\n",
              "          const quickchartButtonEl =\n",
              "            document.querySelector('#' + key + ' button');\n",
              "          quickchartButtonEl.disabled = true;  // To prevent multiple clicks.\n",
              "          quickchartButtonEl.classList.add('colab-df-spinner');\n",
              "          try {\n",
              "            const charts = await google.colab.kernel.invokeFunction(\n",
              "                'suggestCharts', [key], {});\n",
              "          } catch (error) {\n",
              "            console.error('Error during call to suggestCharts:', error);\n",
              "          }\n",
              "          quickchartButtonEl.classList.remove('colab-df-spinner');\n",
              "          quickchartButtonEl.classList.add('colab-df-quickchart-complete');\n",
              "        }\n",
              "        (() => {\n",
              "          let quickchartButtonEl =\n",
              "            document.querySelector('#df-5daba0f1-cffa-4d0b-9034-2dd6ecf8c4c0 button');\n",
              "          quickchartButtonEl.style.display =\n",
              "            google.colab.kernel.accessAllowed ? 'block' : 'none';\n",
              "        })();\n",
              "      </script>\n",
              "    </div>\n",
              "\n",
              "  <div id=\"id_e7fd3da1-5214-40b7-b947-d7e999793022\">\n",
              "    <style>\n",
              "      .colab-df-generate {\n",
              "        background-color: #E8F0FE;\n",
              "        border: none;\n",
              "        border-radius: 50%;\n",
              "        cursor: pointer;\n",
              "        display: none;\n",
              "        fill: #1967D2;\n",
              "        height: 32px;\n",
              "        padding: 0 0 0 0;\n",
              "        width: 32px;\n",
              "      }\n",
              "\n",
              "      .colab-df-generate:hover {\n",
              "        background-color: #E2EBFA;\n",
              "        box-shadow: 0px 1px 2px rgba(60, 64, 67, 0.3), 0px 1px 3px 1px rgba(60, 64, 67, 0.15);\n",
              "        fill: #174EA6;\n",
              "      }\n",
              "\n",
              "      [theme=dark] .colab-df-generate {\n",
              "        background-color: #3B4455;\n",
              "        fill: #D2E3FC;\n",
              "      }\n",
              "\n",
              "      [theme=dark] .colab-df-generate:hover {\n",
              "        background-color: #434B5C;\n",
              "        box-shadow: 0px 1px 3px 1px rgba(0, 0, 0, 0.15);\n",
              "        filter: drop-shadow(0px 1px 2px rgba(0, 0, 0, 0.3));\n",
              "        fill: #FFFFFF;\n",
              "      }\n",
              "    </style>\n",
              "    <button class=\"colab-df-generate\" onclick=\"generateWithVariable('df')\"\n",
              "            title=\"Generate code using this dataframe.\"\n",
              "            style=\"display:none;\">\n",
              "\n",
              "  <svg xmlns=\"http://www.w3.org/2000/svg\" height=\"24px\"viewBox=\"0 0 24 24\"\n",
              "       width=\"24px\">\n",
              "    <path d=\"M7,19H8.4L18.45,9,17,7.55,7,17.6ZM5,21V16.75L18.45,3.32a2,2,0,0,1,2.83,0l1.4,1.43a1.91,1.91,0,0,1,.58,1.4,1.91,1.91,0,0,1-.58,1.4L9.25,21ZM18.45,9,17,7.55Zm-12,3A5.31,5.31,0,0,0,4.9,8.1,5.31,5.31,0,0,0,1,6.5,5.31,5.31,0,0,0,4.9,4.9,5.31,5.31,0,0,0,6.5,1,5.31,5.31,0,0,0,8.1,4.9,5.31,5.31,0,0,0,12,6.5,5.46,5.46,0,0,0,6.5,12Z\"/>\n",
              "  </svg>\n",
              "    </button>\n",
              "    <script>\n",
              "      (() => {\n",
              "      const buttonEl =\n",
              "        document.querySelector('#id_e7fd3da1-5214-40b7-b947-d7e999793022 button.colab-df-generate');\n",
              "      buttonEl.style.display =\n",
              "        google.colab.kernel.accessAllowed ? 'block' : 'none';\n",
              "\n",
              "      buttonEl.onclick = () => {\n",
              "        google.colab.notebook.generateWithVariable('df');\n",
              "      }\n",
              "      })();\n",
              "    </script>\n",
              "  </div>\n",
              "\n",
              "    </div>\n",
              "  </div>\n"
            ],
            "application/vnd.google.colaboratory.intrinsic+json": {
              "type": "dataframe",
              "variable_name": "df",
              "summary": "{\n  \"name\": \"df\",\n  \"rows\": 9,\n  \"fields\": [\n    {\n      \"column\": \"Area\",\n      \"properties\": {\n        \"dtype\": \"number\",\n        \"std\": 255,\n        \"min\": 2500,\n        \"max\": 3200,\n        \"num_unique_values\": 8,\n        \"samples\": [\n          2900,\n          2700,\n          3000\n        ],\n        \"semantic_type\": \"\",\n        \"description\": \"\"\n      }\n    },\n    {\n      \"column\": \"price\",\n      \"properties\": {\n        \"dtype\": \"number\",\n        \"std\": 984,\n        \"min\": 2680,\n        \"max\": 5000,\n        \"num_unique_values\": 9,\n        \"samples\": [\n          3500,\n          4900,\n          2680\n        ],\n        \"semantic_type\": \"\",\n        \"description\": \"\"\n      }\n    }\n  ]\n}"
            }
          },
          "metadata": {},
          "execution_count": 186
        }
      ]
    },
    {
      "cell_type": "code",
      "source": [],
      "metadata": {
        "id": "tBgq_7a36pvR"
      },
      "execution_count": 186,
      "outputs": []
    },
    {
      "cell_type": "code",
      "source": [
        "df.shape"
      ],
      "metadata": {
        "colab": {
          "base_uri": "https://localhost:8080/"
        },
        "id": "4QuRAa4d5gtD",
        "outputId": "991e7658-73b7-442d-d13e-a537e42cd848"
      },
      "execution_count": 187,
      "outputs": [
        {
          "output_type": "execute_result",
          "data": {
            "text/plain": [
              "(9, 2)"
            ]
          },
          "metadata": {},
          "execution_count": 187
        }
      ]
    },
    {
      "cell_type": "code",
      "source": [
        "x = df['Area']\n",
        "y = df['price']"
      ],
      "metadata": {
        "id": "Zpyv8UGy5rtB"
      },
      "execution_count": 188,
      "outputs": []
    },
    {
      "cell_type": "code",
      "source": [
        "x"
      ],
      "metadata": {
        "collapsed": true,
        "colab": {
          "base_uri": "https://localhost:8080/",
          "height": 366
        },
        "id": "HW84Ghlt_HCs",
        "outputId": "84977d10-97cd-4a04-8f4a-f1b3cdca72bb"
      },
      "execution_count": 189,
      "outputs": [
        {
          "output_type": "execute_result",
          "data": {
            "text/plain": [
              "0    3000\n",
              "1    2900\n",
              "2    2880\n",
              "3    2500\n",
              "4    2990\n",
              "5    2500\n",
              "6    2700\n",
              "7    3150\n",
              "8    3200\n",
              "Name: Area, dtype: int64"
            ],
            "text/html": [
              "<div>\n",
              "<style scoped>\n",
              "    .dataframe tbody tr th:only-of-type {\n",
              "        vertical-align: middle;\n",
              "    }\n",
              "\n",
              "    .dataframe tbody tr th {\n",
              "        vertical-align: top;\n",
              "    }\n",
              "\n",
              "    .dataframe thead th {\n",
              "        text-align: right;\n",
              "    }\n",
              "</style>\n",
              "<table border=\"1\" class=\"dataframe\">\n",
              "  <thead>\n",
              "    <tr style=\"text-align: right;\">\n",
              "      <th></th>\n",
              "      <th>Area</th>\n",
              "    </tr>\n",
              "  </thead>\n",
              "  <tbody>\n",
              "    <tr>\n",
              "      <th>0</th>\n",
              "      <td>3000</td>\n",
              "    </tr>\n",
              "    <tr>\n",
              "      <th>1</th>\n",
              "      <td>2900</td>\n",
              "    </tr>\n",
              "    <tr>\n",
              "      <th>2</th>\n",
              "      <td>2880</td>\n",
              "    </tr>\n",
              "    <tr>\n",
              "      <th>3</th>\n",
              "      <td>2500</td>\n",
              "    </tr>\n",
              "    <tr>\n",
              "      <th>4</th>\n",
              "      <td>2990</td>\n",
              "    </tr>\n",
              "    <tr>\n",
              "      <th>5</th>\n",
              "      <td>2500</td>\n",
              "    </tr>\n",
              "    <tr>\n",
              "      <th>6</th>\n",
              "      <td>2700</td>\n",
              "    </tr>\n",
              "    <tr>\n",
              "      <th>7</th>\n",
              "      <td>3150</td>\n",
              "    </tr>\n",
              "    <tr>\n",
              "      <th>8</th>\n",
              "      <td>3200</td>\n",
              "    </tr>\n",
              "  </tbody>\n",
              "</table>\n",
              "</div><br><label><b>dtype:</b> int64</label>"
            ]
          },
          "metadata": {},
          "execution_count": 189
        }
      ]
    },
    {
      "cell_type": "markdown",
      "source": [
        "#First step"
      ],
      "metadata": {
        "id": "xXwX4ncx6Vqr"
      }
    },
    {
      "cell_type": "code",
      "source": [
        "# Normalize\n",
        "x = (x - x.mean()) / x.std()\n",
        "y = (y - y.mean()) / y.std()"
      ],
      "metadata": {
        "id": "rSE3mmPiBTRM"
      },
      "execution_count": 190,
      "outputs": []
    },
    {
      "cell_type": "code",
      "source": [
        "# Initialize parameters\n",
        "m = 10\n",
        "c = 5\n",
        "Learning_rate = 0.001\n",
        "n = len(x)\n",
        "iterations = 100"
      ],
      "metadata": {
        "id": "XdakXiEC6Elt"
      },
      "execution_count": 191,
      "outputs": []
    },
    {
      "cell_type": "markdown",
      "source": [
        "Second Step"
      ],
      "metadata": {
        "id": "RTIyVzEr7LSO"
      }
    },
    {
      "cell_type": "code",
      "source": [
        "for i in range(iterations):\n",
        "    predict_y = m*x + c\n",
        "    derivatives_m = (-2/n) * sum(x*(y - predict_y))\n",
        "    derivatives_c = (-2/n) * sum(y - predict_y)\n",
        "\n",
        "\n",
        "    #final step\n",
        "    m = m - Learning_rate * derivatives_m\n",
        "    c = c - Learning_rate * derivatives_c\n",
        "\n",
        "    print(m,c)\n",
        "\n",
        "\n",
        "print(\"Final values of m and c:\", m, c)\n"
      ],
      "metadata": {
        "colab": {
          "base_uri": "https://localhost:8080/"
        },
        "collapsed": true,
        "id": "LLe297_17HHF",
        "outputId": "1489ee9e-8dc9-4596-f390-86b3a71dfa28"
      },
      "execution_count": 192,
      "outputs": [
        {
          "output_type": "stream",
          "name": "stdout",
          "text": [
            "9.982336934862937 4.99\n",
            "9.964705270730564 4.980020000000001\n",
            "9.94710495177887 4.97005996\n",
            "9.92953592228309 4.96011984008\n",
            "9.911998126617526 4.95019960039984\n",
            "9.894491509255365 4.94029920119904\n",
            "9.877016014768516 4.930418602796642\n",
            "9.859571587827421 4.920557765591049\n",
            "9.842158173200888 4.910716650059867\n",
            "9.824775715755914 4.900895216759747\n",
            "9.807424160457508 4.891093426326227\n",
            "9.790103452368522 4.8813112394735745\n",
            "9.77281353664947 4.871548616994628\n",
            "9.755554358558365 4.8618055197606385\n",
            "9.738325863450534 4.852081908721117\n",
            "9.72112799677845 4.842377744903675\n",
            "9.703960704091559 4.832692989413867\n",
            "9.686823931036113 4.8230276034350394\n",
            "9.669717623354986 4.813381548228169\n",
            "9.652641726887515 4.803754785131713\n",
            "9.63559618756932 4.79414727556145\n",
            "9.618580951432135 4.784558981010327\n",
            "9.601595964603638 4.774989863048306\n",
            "9.584641173307281 4.76543988332221\n",
            "9.567716523862117 4.755909003555566\n",
            "9.550821962682633 4.746397185548455\n",
            "9.53395743627858 4.736904391177358\n",
            "9.5171228912548 4.727430582395003\n",
            "9.500318274311063 4.717975721230213\n",
            "9.483543532241892 4.708539769787753\n",
            "9.466798611936401 4.699122690248177\n",
            "9.450083460378119 4.6897244448676805\n",
            "9.433398024644829 4.680344995977945\n",
            "9.4167422519084 4.670984305985989\n",
            "9.400116089434611 4.661642337374017\n",
            "9.383519484583 4.652319052699269\n",
            "9.366952384806678 4.64301441459387\n",
            "9.350414737652182 4.633728385764683\n",
            "9.333906490759293 4.6244609289931535\n",
            "9.317427591860882 4.615212007135167\n",
            "9.300977988782735 4.605981583120896\n",
            "9.284557629443393 4.596769619954655\n",
            "9.268166461853987 4.587576080714745\n",
            "9.251804434118073 4.578400928553316\n",
            "9.235471494431469 4.569244126696209\n",
            "9.219167591082083 4.560105638442817\n",
            "9.202892672449764 4.550985427165931\n",
            "9.186646687006125 4.541883456311599\n",
            "9.170429583314386 4.532799689398975\n",
            "9.15424131002921 4.523734090020177\n",
            "9.138081815896541 4.514686621840137\n",
            "9.121951049753442 4.5056572485964566\n",
            "9.10584896052793 4.496645934099264\n",
            "9.089775497238817 4.487652642231065\n",
            "9.073730608995552 4.478677336946603\n",
            "9.057714244998053 4.46971998227271\n",
            "9.04172635453655 4.460780542308164\n",
            "9.025766886991423 4.451858981223548\n",
            "9.009835791833044 4.442955263261101\n",
            "8.993933018621613 4.434069352734579\n",
            "8.978058517007002 4.42520121402911\n",
            "8.962212236728593 4.416350811601053\n",
            "8.946394127615125 4.40751810997785\n",
            "8.930604139584526 4.398703073757895\n",
            "8.914842222643758 4.389905667610379\n",
            "8.899108326888662 4.381125856275158\n",
            "8.883402402503798 4.372363604562608\n",
            "8.867724399762285 4.363618877353483\n",
            "8.852074269025644 4.354891639598776\n",
            "8.836451960743648 4.346181856319578\n",
            "8.820857425454154 4.337489492606939\n",
            "8.805290613782951 4.328814513621725\n",
            "8.789751476443609 4.320156884594482\n",
            "8.774239964237314 4.311516570825293\n",
            "8.75875602805272 4.302893537683643\n",
            "8.743299618865786 4.294287750608276\n",
            "8.72787068773963 4.285699175107059\n",
            "8.712469185824364 4.277127776756845\n",
            "8.697095064356947 4.268573521203331\n",
            "8.681748274661029 4.260036374160925\n",
            "8.666428768146792 4.251516301412603\n",
            "8.651136496310803 4.2430132688097775\n",
            "8.635871410735856 4.234527242272158\n",
            "8.620633463090819 4.226058187787613\n",
            "8.605422605130485 4.217606071412038\n",
            "8.590238788695414 4.209170859269214\n",
            "8.575081965711783 4.200752517550676\n",
            "8.559952088191235 4.192351012515575\n",
            "8.544849108230721 4.183966310490543\n",
            "8.52977297801236 4.175598377869562\n",
            "8.514723649803276 4.167247181113823\n",
            "8.499701075955453 4.158912686751596\n",
            "8.484705208905583 4.150594861378093\n",
            "8.46973600117491 4.142293671655337\n",
            "8.454793405369093 4.1340090843120265\n",
            "8.439877374178042 4.125741066143402\n",
            "8.424987860375776 4.117489584011116\n",
            "8.410124816820268 4.109254604843094\n",
            "8.395288196453304 4.1010360956334075\n",
            "8.380477952300325 4.0928340234421405\n",
            "Final values of m and c: 8.380477952300325 4.0928340234421405\n"
          ]
        }
      ]
    },
    {
      "cell_type": "code",
      "source": [
        "x = float(input(\"Enter the area: \"))\n",
        "y = m*x + c\n",
        "print(y)"
      ],
      "metadata": {
        "colab": {
          "base_uri": "https://localhost:8080/"
        },
        "collapsed": true,
        "id": "zBDmK_YG7JTT",
        "outputId": "59841d38-a9b1-4e7c-e470-aa85071000dc"
      },
      "execution_count": 193,
      "outputs": [
        {
          "output_type": "stream",
          "name": "stdout",
          "text": [
            "Enter the area: 3333\n",
            "27936.225849040424\n"
          ]
        }
      ]
    },
    {
      "cell_type": "code",
      "source": [
        "# Final predictions\n",
        "predicted = m * x + c\n",
        "\n",
        "# Ensure that both y and predicted are Pandas Series (if needed)\n",
        "y = pd.Series(y)\n",
        "predicted = pd.Series(predicted)\n",
        "\n",
        "# Evaluation Metrics\n",
        "mae = mean_absolute_error(y, predicted)\n",
        "mse = mean_squared_error(y, predicted)\n",
        "rmse = np.sqrt(mse)\n",
        "r2 = r2_score(y, predicted)\n",
        "\n",
        "print(f\"MAE: {mae}\")\n",
        "print(f\"MSE: {mse}\")\n",
        "print(f\"RMSE: {rmse}\")\n",
        "print(f\"R² Score: {r2}\")"
      ],
      "metadata": {
        "colab": {
          "base_uri": "https://localhost:8080/"
        },
        "id": "zXNxXeec6lJY",
        "outputId": "43c7e6dc-7dc8-4285-e843-ac5779fbf755"
      },
      "execution_count": 194,
      "outputs": [
        {
          "output_type": "stream",
          "name": "stdout",
          "text": [
            "MAE: 0.0\n",
            "MSE: 0.0\n",
            "RMSE: 0.0\n",
            "R² Score: nan\n"
          ]
        },
        {
          "output_type": "stream",
          "name": "stderr",
          "text": [
            "/usr/local/lib/python3.11/dist-packages/sklearn/metrics/_regression.py:1266: UndefinedMetricWarning: R^2 score is not well-defined with less than two samples.\n",
            "  warnings.warn(msg, UndefinedMetricWarning)\n"
          ]
        }
      ]
    },
    {
      "cell_type": "code",
      "source": [
        "# Denormalize for plotting (optional but makes plot meaningful)\n",
        "x_original = df['Area']\n",
        "y_original = df['price']\n",
        "\n",
        "# Use the trained model to predict prices on original area scale\n",
        "x_normalized = (x_original - x_original.mean()) / x_original.std()\n",
        "y_pred_normalized = m * x_normalized + c\n",
        "\n",
        "# Denormalize predicted prices\n",
        "y_pred = y_pred_normalized * y_original.std() + y_original.mean()\n",
        "\n",
        "# Plotting\n",
        "plt.figure(figsize=(10, 6))\n",
        "plt.scatter(x_original, y_original, color='blue', label='Actual Data')\n",
        "plt.plot(x_original, y_pred, color='red', linewidth=2, label='Regression Line')\n",
        "plt.xlabel('Area')\n",
        "plt.ylabel('Price')\n",
        "plt.title('Linear Regression: Area vs Price')\n",
        "plt.legend()\n",
        "plt.grid(True)\n",
        "plt.show()"
      ],
      "metadata": {
        "colab": {
          "base_uri": "https://localhost:8080/",
          "height": 564
        },
        "id": "Bb--aKUfFWf5",
        "outputId": "1965478b-a605-4a29-dde7-78b449c59f6b"
      },
      "execution_count": 195,
      "outputs": [
        {
          "output_type": "display_data",
          "data": {
            "text/plain": [
              "<Figure size 1000x600 with 1 Axes>"
            ],
            "image/png": "[encoded data removed]"
          },
          "metadata": {}
        }
      ]
    },
    {
      "cell_type": "code",
      "source": [
        "# Denormalize for plotting\n",
        "x_original = df['Area']\n",
        "y_original = df['price']\n",
        "\n",
        "x_normalized = (x_original - x_original.mean()) / x_original.std()\n",
        "y_pred_normalized = m * x_normalized + c\n",
        "y_pred = y_pred_normalized * y_original.std() + y_original.mean()\n",
        "\n",
        "# Plotting\n",
        "plt.figure(figsize=(10, 6))\n",
        "plt.scatter(x_original, y_original, color='blue', label='Actual Data')\n",
        "plt.plot(x_original, y_pred, color='red', linewidth=2, label='Regression Line')\n",
        "plt.xlabel('Area')\n",
        "plt.ylabel('Price')\n",
        "plt.title('Linear Regression: Area vs Price')\n",
        "plt.legend()\n",
        "plt.grid(True)\n",
        "\n",
        "# Save the plot as PNG\n",
        "plt.savefig('/content/drive/MyDrive/Colab Notebooks/area_vs_price_plot.png')  # ✅ Change path if needed\n",
        "\n",
        "plt.show()\n"
      ],
      "metadata": {
        "colab": {
          "base_uri": "https://localhost:8080/",
          "height": 564
        },
        "id": "KtX9AXQBGeWY",
        "outputId": "cb53e98a-5173-4169-c9d3-7ca5f788ffce"
      },
      "execution_count": 196,
      "outputs": [
        {
          "output_type": "display_data",
          "data": {
            "text/plain": [
              "<Figure size 1000x600 with 1 Axes>"
            ],
            "image/png": "[encoded data removed]"
          },
          "metadata": {}
        }
      ]
    },
    {
      "cell_type": "code",
      "source": [],
      "metadata": {
        "id": "rmUuiuy2Grlp"
      },
      "execution_count": 196,
      "outputs": []
    }
  ]
}