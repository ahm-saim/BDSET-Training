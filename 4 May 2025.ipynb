{
 "cells": [
  {
   "cell_type": "code",
   "execution_count": 1,
   "id": "5bc3c3cd",
   "metadata": {},
   "outputs": [
    {
     "name": "stdout",
     "output_type": "stream",
     "text": [
      "5\n"
     ]
    }
   ],
   "source": [
    "# Gradiant decen\n",
    "print(5)\n"
   ]
  },
  {
   "cell_type": "code",
   "execution_count": 2,
   "id": "93f2457e",
   "metadata": {},
   "outputs": [
    {
     "name": "stdout",
     "output_type": "stream",
     "text": [
      "The second largest number is: 45\n"
     ]
    }
   ],
   "source": [
    "# Input list\n",
    "numbers = [10, 20, 4, 45, 99, 99, 23]\n",
    "\n",
    "# Step 1: Remove duplicates\n",
    "unique_numbers = list(set(numbers))\n",
    "\n",
    "# Step 2: Check if there are at least two unique numbers\n",
    "if len(unique_numbers) < 2:\n",
    "    print(\"Second largest number not found. Need at least two unique numbers.\")\n",
    "else:\n",
    "    # Step 3: Initialize two smallest possible values\n",
    "    largest = second_largest = float('-inf')\n",
    "\n",
    "    # Step 4: Find largest and second largest\n",
    "    for num in unique_numbers:\n",
    "        if num > largest:\n",
    "            second_largest = largest\n",
    "            largest = num\n",
    "        elif num > second_largest:\n",
    "            second_largest = num\n",
    "\n",
    "    # Step 5: Print result\n",
    "    print(\"The second largest number is:\", second_largest)\n",
    "\n"
   ]
  }
 ],
 "metadata": {
  "kernelspec": {
   "display_name": "venv1",
   "language": "python",
   "name": "python3"
  },
  "language_info": {
   "codemirror_mode": {
    "name": "ipython",
    "version": 3
   },
   "file_extension": ".py",
   "mimetype": "text/x-python",
   "name": "python",
   "nbconvert_exporter": "python",
   "pygments_lexer": "ipython3",
   "version": "3.13.0"
  }
 },
 "nbformat": 4,
 "nbformat_minor": 5
}
