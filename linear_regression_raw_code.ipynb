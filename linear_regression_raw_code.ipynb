{
  "cells": [
    {
      "cell_type": "code",
      "execution_count": 1,
      "metadata": {
        "colab": {
          "base_uri": "https://localhost:8080/"
        },
        "id": "r14xqA6V7K3T",
        "outputId": "4f615625-407e-453c-c20f-3bdb335912e5"
      },
      "outputs": [
        {
          "name": "stdout",
          "output_type": "stream",
          "text": [
            "The linear regression line is: y = 0.60x + 2.20\n",
            "Predicted y for x = 6 is 5.80\n"
          ]
        }
      ],
      "source": [
        "# Sample data (x and y values)\n",
        "x = [1, 2, 3, 4, 5]\n",
        "y = [2, 4, 5, 4, 5]\n",
        "\n",
        "# Step 1: Calculate means\n",
        "n = len(x)\n",
        "mean_x = sum(x) / n\n",
        "mean_y = sum(y) / n\n",
        "\n",
        "# Step 2: Calculate slope (m)\n",
        "numerator = sum((x[i] - mean_x) * (y[i] - mean_y) for i in range(n))\n",
        "denominator = sum((x[i] - mean_x) ** 2 for i in range(n))\n",
        "m = numerator / denominator\n",
        "\n",
        "# Step 3: Calculate intercept (c)\n",
        "c = mean_y - m * mean_x\n",
        "\n",
        "# Final equation\n",
        "print(f\"The linear regression line is: y = {m:.2f}x + {c:.2f}\")\n",
        "\n",
        "# Predict a value (optional)\n",
        "x_pred = 6\n",
        "y_pred = m * x_pred + c\n",
        "print(f\"Predicted y for x = {x_pred} is {y_pred:.2f}\")\n"
      ]
    },
    {
      "cell_type": "code",
      "execution_count": null,
      "metadata": {
        "id": "seYscY0a7O7b"
      },
      "outputs": [],
      "source": [
        "# Sample data\n",
        "x = [1, 2, 3, 4, 5]\n",
        "y = [2, 4, 5, 4, 5]\n",
        "\n",
        "# Step 1: Calculate means\n",
        "n = len(x)\n",
        "mean_x = sum(x) / n\n",
        "mean_y = sum(y) / n\n",
        "\n",
        "# Step 2: Calculate numerator and denominator for slope (m)\n",
        "numerator = 0\n",
        "denominator = 0\n",
        "\n",
        "for i in range(n):\n",
        "    numerator += (x[i] - mean_x) * (y[i] - mean_y)\n",
        "    denominator += (x[i] - mean_x) ** 2\n",
        "\n",
        "# Step 3: Calculate slope\n",
        "m = numerator / denominator\n",
        "\n",
        "# step 4: calculate intercept\n",
        "c = mean_y - m* mean_x\n",
        "\n",
        "# final equation\n",
        "print(f\" The linear regression line is: y = {m:.2f}x + {c: .2f}\")\n",
        "\n",
        "# Predictio \n",
        "x_pred = 6\n",
        "y_pred = m*x_pred + c\n",
        "\n",
        "print(f\"Predicted y for x = {x_pred} is {y_pred:.2f}\")"
      ]
    }
  ],
  "metadata": {
    "colab": {
      "provenance": []
    },
    "kernelspec": {
      "display_name": "venv1",
      "language": "python",
      "name": "python3"
    },
    "language_info": {
      "codemirror_mode": {
        "name": "ipython",
        "version": 3
      },
      "file_extension": ".py",
      "mimetype": "text/x-python",
      "name": "python",
      "nbconvert_exporter": "python",
      "pygments_lexer": "ipython3",
      "version": "3.13.0"
    }
  },
  "nbformat": 4,
  "nbformat_minor": 0
}
