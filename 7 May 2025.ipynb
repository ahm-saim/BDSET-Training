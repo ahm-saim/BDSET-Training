{
 "cells": [
  {
   "cell_type": "code",
   "execution_count": null,
   "id": "1f8d9490",
   "metadata": {},
   "outputs": [],
   "source": [
    "from sklearn.feature_extraction.text import CountVectorizer"
   ]
  },
  {
   "cell_type": "markdown",
   "id": "867af582",
   "metadata": {},
   "source": [
    "counter vectorizer:only work with text data\n",
    "\n",
    "token = one word\n",
    "token no:   0        1         2          3         4\n",
    "index:      a      are        write      student   you\n",
    "\n",
    "create a vector:\n",
    "Example: you are a good student\n",
    "so, vector:\n",
    "0       0       0       0       1\n",
    "0       1       0       0       0\n",
    "1       0       0       0       0\n",
    "....................................\n",
    "....................................\n",
    "\n"
   ]
  },
  {
   "cell_type": "code",
   "execution_count": 13,
   "id": "b0fedbe7",
   "metadata": {},
   "outputs": [],
   "source": [
    "# Sample text data\n",
    "documents = [\n",
    "    \"You are a good tsudent, are not you?\",\n",
    "    \"Write a paragraph on winter morning.\",\n",
    "    \"Feature extraction is an important step in machine learning.\"\n",
    "]\n",
    "\n",
    "# Create an instance of CountVectorizer\n",
    "count_vectorizer = CountVectorizer()\n",
    "\n",
    "# Fit and transform the documents\n",
    "count_matrix = count_vectorizer.fit_transform(documents)\n"
   ]
  },
  {
   "cell_type": "code",
   "execution_count": 14,
   "id": "5d962478",
   "metadata": {},
   "outputs": [
    {
     "name": "stdout",
     "output_type": "stream",
     "text": [
      "{'you': 18, 'are': 1, 'good': 4, 'tsudent': 15, 'not': 11, 'write': 17, 'paragraph': 13, 'on': 12, 'winter': 16, 'morning': 10, 'feature': 3, 'extraction': 2, 'is': 7, 'an': 0, 'important': 5, 'step': 14, 'in': 6, 'machine': 9, 'learning': 8}\n"
     ]
    }
   ],
   "source": [
    "print(count_vectorizer.vocabulary_) "
   ]
  },
  {
   "cell_type": "code",
   "execution_count": 15,
   "id": "548e7c00",
   "metadata": {},
   "outputs": [
    {
     "name": "stdout",
     "output_type": "stream",
     "text": [
      "[[0 2 0 0 1 0 0 0 0 0 0 1 0 0 0 1 0 0 2]\n",
      " [0 0 0 0 0 0 0 0 0 0 1 0 1 1 0 0 1 1 0]\n",
      " [1 0 1 1 0 1 1 1 1 1 0 0 0 0 1 0 0 0 0]]\n"
     ]
    }
   ],
   "source": [
    "\n",
    "\n",
    "print(count_matrix.toarray())"
   ]
  },
  {
   "cell_type": "code",
   "execution_count": 20,
   "id": "3e20f025",
   "metadata": {},
   "outputs": [
    {
     "name": "stdout",
     "output_type": "stream",
     "text": [
      "[[20.  0.  1.]\n",
      " [30.  1.  0.]\n",
      " [40.  0.  1.]\n",
      " [50.  1.  0.]\n",
      " [60.  1.  0.]]\n",
      "['Temp' 'city=Dhaka' 'city=Kathmandu' 'city=London' 'city=Paris'\n",
      " 'city=Sydney']\n",
      "\n",
      "Transformed Data (City and Temp):\n",
      " [[20.  0.  1.]\n",
      " [30.  1.  0.]\n",
      " [40.  0.  1.]\n",
      " [50.  1.  0.]\n",
      " [60.  1.  0.]]\n",
      "Feature Names (City and Temp):\n",
      " ['Temp' 'city=Dhaka' 'city=Kathmandu' 'city=London' 'city=Paris'\n",
      " 'city=Sydney']\n"
     ]
    }
   ],
   "source": [
    "from sklearn.feature_extraction import DictVectorizer\n",
    "\n",
    "# Data 1 - People data\n",
    "data = [\n",
    "    {'age': 20, 'gender': 'male'},\n",
    "    {'age': 30, 'gender': 'Female'},\n",
    "    {'age': 40, 'gender': 'male'},\n",
    "    {'age': 50, 'gender': 'Female'},\n",
    "    {'age': 60, 'gender': 'Female'}\n",
    "]\n",
    "\n",
    "# Data 2 - City and temperature data\n",
    "data1 = [\n",
    "    {'city': 'London', 'Temp': 29},\n",
    "    {'city': 'Sydney', 'Temp': 27},\n",
    "    {'city': 'Paris', 'Temp': 24},\n",
    "    {'city': 'Kathmandu', 'Temp': 22},\n",
    "    {'city': 'Dhaka', 'Temp': 24}\n",
    "]\n",
    "\n",
    "# Create a DictVectorizer instance\n",
    "vectorizer = DictVectorizer(sparse=False)  # sparse=False to get dense array \n",
    "\n",
    "\n",
    "# Fit and transform the data\n",
    "feature_matrix = vectorizer.fit_transform(data)\n",
    "feature_name = vectorizer.fit_transform(data1)\n",
    "\n",
    "# Print the results\n",
    "print(feature_matrix)\n",
    "print(vectorizer.get_feature_names_out())\n",
    "\n",
    "print(\"\\nTransformed Data (City and Temp):\\n\", feature_matrix)\n",
    "print(\"Feature Names (City and Temp):\\n\", vectorizer.get_feature_names_out())\n"
   ]
  },
  {
   "cell_type": "markdown",
   "id": "d04f92e0",
   "metadata": {},
   "source": [
    "it works like that\"\n",
    "age         gender\n",
    "        male    Female\n",
    "20      1       0\n",
    "30      0       1 \n",
    "40      1       0"
   ]
  }
 ],
 "metadata": {
  "kernelspec": {
   "display_name": "venv1",
   "language": "python",
   "name": "python3"
  },
  "language_info": {
   "codemirror_mode": {
    "name": "ipython",
    "version": 3
   },
   "file_extension": ".py",
   "mimetype": "text/x-python",
   "name": "python",
   "nbconvert_exporter": "python",
   "pygments_lexer": "ipython3",
   "version": "3.13.0"
  }
 },
 "nbformat": 4,
 "nbformat_minor": 5
}
