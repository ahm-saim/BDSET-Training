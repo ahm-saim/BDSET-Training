{
 "cells": [
  {
   "cell_type": "markdown",
   "id": "76b192d2",
   "metadata": {},
   "source": [
    "# Entropy\n",
    "# Gain"
   ]
  },
  {
   "cell_type": "code",
   "execution_count": null,
   "id": "74abeca7",
   "metadata": {},
   "outputs": [],
   "source": []
  }
 ],
 "metadata": {
  "language_info": {
   "name": "python"
  }
 },
 "nbformat": 4,
 "nbformat_minor": 5
}
